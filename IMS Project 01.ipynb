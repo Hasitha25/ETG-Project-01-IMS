{
 "cells": [
  {
   "cell_type": "code",
   "execution_count": null,
   "source": [
    "import json\r\n",
    "import random"
   ],
   "outputs": [],
   "metadata": {}
  },
  {
   "cell_type": "code",
   "execution_count": null,
   "source": [
    "with open(\"inventory.json\",\"r\") as fd:\r\n",
    "    txt = fd.read()\r\n",
    "with open(\"sales.json\",\"r\") as fd:\r\n",
    "    sales = fd.read()\r\n",
    "\r\n",
    "def calculate_Bill(price, quan, discount):\r\n",
    "    discount_amt = price*quan*(discount/100)\r\n",
    "    new_p = price*quan - discount_amt\r\n",
    "    return [f\"Cost Price : {price}, Quantity: {quan}\\nNet Cost: Rs. {price*quan}\\nMoney saved due to Discount({discount}%) : Rs. {discount_amt}\\nTotal amount to Pay: {new_p}\", new_p]\r\n",
    "\r\n",
    "\r\n",
    "\r\n",
    "inventory = json.loads(txt)\r\n",
    "inventory\r\n"
   ],
   "outputs": [],
   "metadata": {}
  },
  {
   "cell_type": "code",
   "execution_count": null,
   "source": [
    "cust_name = input(\"Enter customer Name(who is purchasing): \")\r\n",
    "ui_prod = input(\"Enter product ID he is purchasing from above list: \")\r\n",
    "type(ui_prod) # string\r\n",
    "q = inventory[ui_prod]['quantity']\r\n",
    "n = inventory[ui_prod]['name']\r\n",
    "p = inventory[ui_prod]['price']\r\n",
    "dis = inventory[ui_prod]['discount']\r\n",
    "\r\n",
    "print(\"Quantity Available: \",q)\r\n",
    "ui_quan = int(input(f\"Enter quantity of product(<={q}): \"))\r\n",
    "if ui_quan>q:\r\n",
    "    print('Invalid Quantity! Try Again.')\r\n",
    "else:\r\n",
    "    print(\"\\nYour Bill:\\n\")\r\n",
    "    ret = calculate_Bill(p,ui_quan, dis)\r\n",
    "    print(ret[0])\r\n",
    "    print('\\nAdded to Record. Thanks for purchasing. \\nYou can check inventory file now :)')\r\n",
    "    inventory[ui_prod]['quantity'] -= ui_quan\r\n",
    "    \r\n",
    "    transaction_ID = random.randint(61660, 62660)\r\n",
    "\r\n",
    "    if(len(sales)!=0):\r\n",
    "        transaction_ID = list(sales)[-1] + 1\r\n",
    "\r\n",
    "    sales[transaction_ID] = {\"Customer\":cust_name,\"Purchased Item\":n,\"Quantity\":ui_quan,\"Total Amount Paid after discount\":ret[1]}\r\n",
    "    \r\n",
    "    js = json.dumps(inventory)\r\n",
    "    with open(\"inventory.json\",\"w\") as fd:\r\n",
    "        fd.write(js)\r\n",
    "    js = json.dumps(sales)\r\n",
    "    with open(\"sales.json\",\"w\") as fd:\r\n",
    "        fd.write(js)\r\n",
    "        \r\n",
    "    \r\n",
    "    \r\n"
   ],
   "outputs": [],
   "metadata": {}
  }
 ],
 "metadata": {
  "interpreter": {
   "hash": "2de608e4db5a8181dc068c898e330d9ebdfd18220e2266f0dce402b4844489ec"
  },
  "kernelspec": {
   "name": "python3",
   "display_name": "Python 3.9.6 64-bit"
  },
  "language_info": {
   "name": "python",
   "version": "3.9.6",
   "mimetype": "text/x-python",
   "codemirror_mode": {
    "name": "ipython",
    "version": 3
   },
   "pygments_lexer": "ipython3",
   "nbconvert_exporter": "python",
   "file_extension": ".py"
  }
 },
 "nbformat": 4,
 "nbformat_minor": 5
}